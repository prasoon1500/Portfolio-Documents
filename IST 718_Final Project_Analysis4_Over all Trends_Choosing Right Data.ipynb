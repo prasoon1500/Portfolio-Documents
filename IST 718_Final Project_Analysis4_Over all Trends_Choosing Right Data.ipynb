{
 "cells": [
  {
   "cell_type": "code",
   "execution_count": 1,
   "id": "908550ce",
   "metadata": {},
   "outputs": [],
   "source": [
    "#IST 718_Final Project_Global Temperature Rise _Climate change Impact\n",
    "# Data sets are obtained from Kaggle and data world\n",
    "# Basic idea is explore the data \n",
    "# Clean the data  and combine the data by joining the two different data files\n",
    "# Time Series Analysis - ARIMA, XARIMA, RF \n",
    "# SVM's if possible\n",
    "# Some better and informative visualizations\n",
    "# Over all data measures, predictions and issues and other Data Model with \"OSEMIN\" and \"7'C's\" ; \n",
    "\n",
    "#The purpose of this notebook to load all the data sets that are considered for this project and check their descriptive statstics\n",
    "#Along with the categorical vairble here is the temperature (continuous) ho this variable is changing over period of time across the world(geo locations)"
   ]
  },
  {
   "cell_type": "code",
   "execution_count": 2,
   "id": "da5795c5",
   "metadata": {},
   "outputs": [],
   "source": [
    "import matplotlib.pyplot as plt\n",
    "import numpy as np # linear algebra\n",
    "import pandas as pd \n",
    "import matplotlib.animation as animation\n",
    "from matplotlib.animation import FuncAnimation\n",
    "import seaborn as sns\n",
    "import matplotlib.pyplot as plt\n",
    "%matplotlib inline         \n",
    "\n",
    "import datetime\n",
    "\n",
    "# Plotly to work on jupyter notebook\n",
    "# installation from conda \"$ conda install -c plotly plotly=5.10.0\"\n",
    "\n",
    "import chart_studio.plotly as py\n",
    "import plotly.express as px\n",
    "import plotly.graph_objects as go\n",
    "import colorlover as cl\n",
    "from plotly.subplots import make_subplots\n",
    "\n",
    "# Colors from the website :- https://www.rapidtables.com/web/color/RGB_Color.html\"\n",
    "#maroon = rgb(128,0,0)\n",
    "#chocolate = rgb(210,105,30)\n",
    "#sky blue = rgb(135,206,235)\n",
    "#olive drab = rgb(107,142,35)\n",
    "#steel blue = rgb(70,130,180)             "
   ]
  },
  {
   "cell_type": "code",
   "execution_count": 3,
   "id": "3f738982",
   "metadata": {},
   "outputs": [
    {
     "name": "stderr",
     "output_type": "stream",
     "text": [
      "C:\\Users\\praso\\AppData\\Local\\Temp\\ipykernel_27584\\1213166917.py:4: FutureWarning: The squeeze argument has been deprecated and will be removed in a future version. Append .squeeze(\"columns\") to the call to squeeze.\n",
      "\n",
      "\n",
      "  Tdata = pd.read_csv('GT.csv', header=0, index_col=0, parse_dates=True, squeeze=True) # Parsing the data\n"
     ]
    }
   ],
   "source": [
    "#Load the temperature dataset\n",
    "# Read the data\n",
    "#Tdata = pd.read_csv(\"C:/Users/praso/Documents/IST 718 Big Data Analytics/IST 718_FINAL PROJECT/GT.csv\")\n",
    "Tdata = pd.read_csv('GT.csv', header=0, index_col=0, parse_dates=True, squeeze=True) # Parsing the data \n",
    "#Hence pandas can understand that it is dealing with dates not with srrings\n",
    "Tdata.dropna(inplace = True)"
   ]
  },
  {
   "cell_type": "code",
   "execution_count": 4,
   "id": "b86a2f6a",
   "metadata": {},
   "outputs": [
    {
     "data": {
      "text/html": [
       "<div>\n",
       "<style scoped>\n",
       "    .dataframe tbody tr th:only-of-type {\n",
       "        vertical-align: middle;\n",
       "    }\n",
       "\n",
       "    .dataframe tbody tr th {\n",
       "        vertical-align: top;\n",
       "    }\n",
       "\n",
       "    .dataframe thead th {\n",
       "        text-align: right;\n",
       "    }\n",
       "</style>\n",
       "<table border=\"1\" class=\"dataframe\">\n",
       "  <thead>\n",
       "    <tr style=\"text-align: right;\">\n",
       "      <th></th>\n",
       "      <th>count</th>\n",
       "      <th>mean</th>\n",
       "      <th>std</th>\n",
       "      <th>min</th>\n",
       "      <th>25%</th>\n",
       "      <th>50%</th>\n",
       "      <th>75%</th>\n",
       "      <th>max</th>\n",
       "    </tr>\n",
       "  </thead>\n",
       "  <tbody>\n",
       "    <tr>\n",
       "      <th>LandAverageTemperature</th>\n",
       "      <td>1992.0</td>\n",
       "      <td>8.571583</td>\n",
       "      <td>4.263193</td>\n",
       "      <td>0.404</td>\n",
       "      <td>4.43000</td>\n",
       "      <td>8.8505</td>\n",
       "      <td>12.85850</td>\n",
       "      <td>15.482</td>\n",
       "    </tr>\n",
       "    <tr>\n",
       "      <th>LandAverageTemperatureUncertainty</th>\n",
       "      <td>1992.0</td>\n",
       "      <td>0.276663</td>\n",
       "      <td>0.224030</td>\n",
       "      <td>0.034</td>\n",
       "      <td>0.09975</td>\n",
       "      <td>0.2300</td>\n",
       "      <td>0.34725</td>\n",
       "      <td>1.492</td>\n",
       "    </tr>\n",
       "    <tr>\n",
       "      <th>LandMaxTemperature</th>\n",
       "      <td>1992.0</td>\n",
       "      <td>14.350601</td>\n",
       "      <td>4.309579</td>\n",
       "      <td>5.900</td>\n",
       "      <td>10.21200</td>\n",
       "      <td>14.7600</td>\n",
       "      <td>18.45150</td>\n",
       "      <td>21.320</td>\n",
       "    </tr>\n",
       "    <tr>\n",
       "      <th>LandMaxTemperatureUncertainty</th>\n",
       "      <td>1992.0</td>\n",
       "      <td>0.479782</td>\n",
       "      <td>0.583203</td>\n",
       "      <td>0.044</td>\n",
       "      <td>0.14200</td>\n",
       "      <td>0.2520</td>\n",
       "      <td>0.53900</td>\n",
       "      <td>4.373</td>\n",
       "    </tr>\n",
       "    <tr>\n",
       "      <th>LandMinTemperature</th>\n",
       "      <td>1992.0</td>\n",
       "      <td>2.743595</td>\n",
       "      <td>4.155835</td>\n",
       "      <td>-5.407</td>\n",
       "      <td>-1.33450</td>\n",
       "      <td>2.9495</td>\n",
       "      <td>6.77875</td>\n",
       "      <td>9.715</td>\n",
       "    </tr>\n",
       "    <tr>\n",
       "      <th>LandMinTemperatureUncertainty</th>\n",
       "      <td>1992.0</td>\n",
       "      <td>0.431849</td>\n",
       "      <td>0.445838</td>\n",
       "      <td>0.045</td>\n",
       "      <td>0.15500</td>\n",
       "      <td>0.2790</td>\n",
       "      <td>0.45825</td>\n",
       "      <td>3.498</td>\n",
       "    </tr>\n",
       "    <tr>\n",
       "      <th>LandAndOceanAverageTemperature</th>\n",
       "      <td>1992.0</td>\n",
       "      <td>15.212566</td>\n",
       "      <td>1.274093</td>\n",
       "      <td>12.475</td>\n",
       "      <td>14.04700</td>\n",
       "      <td>15.2510</td>\n",
       "      <td>16.39625</td>\n",
       "      <td>17.611</td>\n",
       "    </tr>\n",
       "    <tr>\n",
       "      <th>LandAndOceanAverageTemperatureUncertainty</th>\n",
       "      <td>1992.0</td>\n",
       "      <td>0.128532</td>\n",
       "      <td>0.073587</td>\n",
       "      <td>0.042</td>\n",
       "      <td>0.06300</td>\n",
       "      <td>0.1220</td>\n",
       "      <td>0.15100</td>\n",
       "      <td>0.457</td>\n",
       "    </tr>\n",
       "  </tbody>\n",
       "</table>\n",
       "</div>"
      ],
      "text/plain": [
       "                                            count       mean       std  \\\n",
       "LandAverageTemperature                     1992.0   8.571583  4.263193   \n",
       "LandAverageTemperatureUncertainty          1992.0   0.276663  0.224030   \n",
       "LandMaxTemperature                         1992.0  14.350601  4.309579   \n",
       "LandMaxTemperatureUncertainty              1992.0   0.479782  0.583203   \n",
       "LandMinTemperature                         1992.0   2.743595  4.155835   \n",
       "LandMinTemperatureUncertainty              1992.0   0.431849  0.445838   \n",
       "LandAndOceanAverageTemperature             1992.0  15.212566  1.274093   \n",
       "LandAndOceanAverageTemperatureUncertainty  1992.0   0.128532  0.073587   \n",
       "\n",
       "                                              min       25%      50%  \\\n",
       "LandAverageTemperature                      0.404   4.43000   8.8505   \n",
       "LandAverageTemperatureUncertainty           0.034   0.09975   0.2300   \n",
       "LandMaxTemperature                          5.900  10.21200  14.7600   \n",
       "LandMaxTemperatureUncertainty               0.044   0.14200   0.2520   \n",
       "LandMinTemperature                         -5.407  -1.33450   2.9495   \n",
       "LandMinTemperatureUncertainty               0.045   0.15500   0.2790   \n",
       "LandAndOceanAverageTemperature             12.475  14.04700  15.2510   \n",
       "LandAndOceanAverageTemperatureUncertainty   0.042   0.06300   0.1220   \n",
       "\n",
       "                                                75%     max  \n",
       "LandAverageTemperature                     12.85850  15.482  \n",
       "LandAverageTemperatureUncertainty           0.34725   1.492  \n",
       "LandMaxTemperature                         18.45150  21.320  \n",
       "LandMaxTemperatureUncertainty               0.53900   4.373  \n",
       "LandMinTemperature                          6.77875   9.715  \n",
       "LandMinTemperatureUncertainty               0.45825   3.498  \n",
       "LandAndOceanAverageTemperature             16.39625  17.611  \n",
       "LandAndOceanAverageTemperatureUncertainty   0.15100   0.457  "
      ]
     },
     "execution_count": 4,
     "metadata": {},
     "output_type": "execute_result"
    }
   ],
   "source": [
    "#Summary of Stastics from 1750 to 2010\n",
    "Tdata.describe().transpose()  # to get the descriptive stastitscs summary of global temperature data"
   ]
  },
  {
   "cell_type": "code",
   "execution_count": 8,
   "id": "8beb4d83",
   "metadata": {},
   "outputs": [
    {
     "name": "stdout",
     "output_type": "stream",
     "text": [
      "<class 'pandas.core.frame.DataFrame'>\n",
      "DatetimeIndex: 1992 entries, 1850-01-01 to 2015-12-01\n",
      "Data columns (total 8 columns):\n",
      " #   Column                                     Non-Null Count  Dtype  \n",
      "---  ------                                     --------------  -----  \n",
      " 0   LandAverageTemperature                     1992 non-null   float64\n",
      " 1   LandAverageTemperatureUncertainty          1992 non-null   float64\n",
      " 2   LandMaxTemperature                         1992 non-null   float64\n",
      " 3   LandMaxTemperatureUncertainty              1992 non-null   float64\n",
      " 4   LandMinTemperature                         1992 non-null   float64\n",
      " 5   LandMinTemperatureUncertainty              1992 non-null   float64\n",
      " 6   LandAndOceanAverageTemperature             1992 non-null   float64\n",
      " 7   LandAndOceanAverageTemperatureUncertainty  1992 non-null   float64\n",
      "dtypes: float64(8)\n",
      "memory usage: 140.1 KB\n",
      "(1992, 8)\n"
     ]
    }
   ],
   "source": [
    "Tdata.info()\n",
    "print(Tdata.shape)"
   ]
  },
  {
   "cell_type": "code",
   "execution_count": 10,
   "id": "7fd3d547",
   "metadata": {},
   "outputs": [
    {
     "data": {
      "text/plain": [
       "LandAverageTemperature                       0\n",
       "LandAverageTemperatureUncertainty            0\n",
       "LandMaxTemperature                           0\n",
       "LandMaxTemperatureUncertainty                0\n",
       "LandMinTemperature                           0\n",
       "LandMinTemperatureUncertainty                0\n",
       "LandAndOceanAverageTemperature               0\n",
       "LandAndOceanAverageTemperatureUncertainty    0\n",
       "dtype: int64"
      ]
     },
     "execution_count": 10,
     "metadata": {},
     "output_type": "execute_result"
    }
   ],
   "source": [
    "# Missing values\n",
    "Tdata.isna().sum()"
   ]
  },
  {
   "cell_type": "code",
   "execution_count": 11,
   "id": "39c23080",
   "metadata": {},
   "outputs": [
    {
     "data": {
      "text/plain": [
       "pandas.core.frame.DataFrame"
      ]
     },
     "execution_count": 11,
     "metadata": {},
     "output_type": "execute_result"
    }
   ],
   "source": [
    "type(Tdata)"
   ]
  },
  {
   "cell_type": "code",
   "execution_count": 12,
   "id": "c29b055d",
   "metadata": {},
   "outputs": [
    {
     "name": "stderr",
     "output_type": "stream",
     "text": [
      "C:\\Users\\praso\\AppData\\Local\\Temp\\ipykernel_27584\\3537034886.py:1: FutureWarning: The squeeze argument has been deprecated and will be removed in a future version. Append .squeeze(\"columns\") to the call to squeeze.\n",
      "\n",
      "\n",
      "  TCdata = pd.read_csv('GTC.csv', header=0, index_col=0, parse_dates=True, squeeze=True) # Parsing the data\n"
     ]
    }
   ],
   "source": [
    "TCdata = pd.read_csv('GTC.csv', header=0, index_col=0, parse_dates=True, squeeze=True)\n",
    "# Parsing the data\n",
    "#TC :-s Temperature of Countries i.e, Country wise temperature"
   ]
  },
  {
   "cell_type": "code",
   "execution_count": 13,
   "id": "92d6d8e5",
   "metadata": {},
   "outputs": [
    {
     "name": "stdout",
     "output_type": "stream",
     "text": [
      "<class 'pandas.core.frame.DataFrame'>\n",
      "DatetimeIndex: 577462 entries, 1743-11-01 to 2013-09-01\n",
      "Data columns (total 3 columns):\n",
      " #   Column                         Non-Null Count   Dtype  \n",
      "---  ------                         --------------   -----  \n",
      " 0   AverageTemperature             544811 non-null  float64\n",
      " 1   AverageTemperatureUncertainty  545550 non-null  float64\n",
      " 2   Country                        577462 non-null  object \n",
      "dtypes: float64(2), object(1)\n",
      "memory usage: 17.6+ MB\n"
     ]
    }
   ],
   "source": [
    "TCdata.info()"
   ]
  },
  {
   "cell_type": "code",
   "execution_count": 14,
   "id": "6f9d1e11",
   "metadata": {},
   "outputs": [
    {
     "data": {
      "text/html": [
       "<div>\n",
       "<style scoped>\n",
       "    .dataframe tbody tr th:only-of-type {\n",
       "        vertical-align: middle;\n",
       "    }\n",
       "\n",
       "    .dataframe tbody tr th {\n",
       "        vertical-align: top;\n",
       "    }\n",
       "\n",
       "    .dataframe thead th {\n",
       "        text-align: right;\n",
       "    }\n",
       "</style>\n",
       "<table border=\"1\" class=\"dataframe\">\n",
       "  <thead>\n",
       "    <tr style=\"text-align: right;\">\n",
       "      <th></th>\n",
       "      <th>count</th>\n",
       "      <th>mean</th>\n",
       "      <th>std</th>\n",
       "      <th>min</th>\n",
       "      <th>25%</th>\n",
       "      <th>50%</th>\n",
       "      <th>75%</th>\n",
       "      <th>max</th>\n",
       "    </tr>\n",
       "  </thead>\n",
       "  <tbody>\n",
       "    <tr>\n",
       "      <th>AverageTemperature</th>\n",
       "      <td>544811.0</td>\n",
       "      <td>17.193354</td>\n",
       "      <td>10.953966</td>\n",
       "      <td>-37.658</td>\n",
       "      <td>10.025</td>\n",
       "      <td>20.901</td>\n",
       "      <td>25.814</td>\n",
       "      <td>38.842</td>\n",
       "    </tr>\n",
       "    <tr>\n",
       "      <th>AverageTemperatureUncertainty</th>\n",
       "      <td>545550.0</td>\n",
       "      <td>1.019057</td>\n",
       "      <td>1.201930</td>\n",
       "      <td>0.052</td>\n",
       "      <td>0.323</td>\n",
       "      <td>0.571</td>\n",
       "      <td>1.206</td>\n",
       "      <td>15.003</td>\n",
       "    </tr>\n",
       "  </tbody>\n",
       "</table>\n",
       "</div>"
      ],
      "text/plain": [
       "                                  count       mean        std     min     25%  \\\n",
       "AverageTemperature             544811.0  17.193354  10.953966 -37.658  10.025   \n",
       "AverageTemperatureUncertainty  545550.0   1.019057   1.201930   0.052   0.323   \n",
       "\n",
       "                                  50%     75%     max  \n",
       "AverageTemperature             20.901  25.814  38.842  \n",
       "AverageTemperatureUncertainty   0.571   1.206  15.003  "
      ]
     },
     "execution_count": 14,
     "metadata": {},
     "output_type": "execute_result"
    }
   ],
   "source": [
    "#summary of country temperatures\n",
    "TCdata.describe().transpose()"
   ]
  },
  {
   "cell_type": "code",
   "execution_count": 15,
   "id": "2d98fe55",
   "metadata": {
    "scrolled": true
   },
   "outputs": [
    {
     "name": "stderr",
     "output_type": "stream",
     "text": [
      "C:\\Users\\praso\\AppData\\Local\\Temp\\ipykernel_27584\\157372468.py:2: FutureWarning: The squeeze argument has been deprecated and will be removed in a future version. Append .squeeze(\"columns\") to the call to squeeze.\n",
      "\n",
      "\n",
      "  TCYdata = pd.read_csv('GTCY.csv', header=0, index_col=0, parse_dates=True, squeeze=True)\n"
     ]
    }
   ],
   "source": [
    "#Loading temperature of cities of various countries\n",
    "TCYdata = pd.read_csv('GTCY.csv', header=0, index_col=0, parse_dates=True, squeeze=True)"
   ]
  },
  {
   "cell_type": "code",
   "execution_count": 17,
   "id": "8b28636b",
   "metadata": {},
   "outputs": [
    {
     "name": "stdout",
     "output_type": "stream",
     "text": [
      "<class 'pandas.core.frame.DataFrame'>\n",
      "DatetimeIndex: 1048575 entries, 1743-11-01 to 1784-08-01\n",
      "Data columns (total 6 columns):\n",
      " #   Column                         Non-Null Count    Dtype  \n",
      "---  ------                         --------------    -----  \n",
      " 0   AverageTemperature             1001028 non-null  float64\n",
      " 1   AverageTemperatureUncertainty  1001028 non-null  float64\n",
      " 2   City                           1048575 non-null  object \n",
      " 3   Country                        1048575 non-null  object \n",
      " 4   Latitude                       1048575 non-null  object \n",
      " 5   Longitude                      1048575 non-null  object \n",
      "dtypes: float64(2), object(4)\n",
      "memory usage: 56.0+ MB\n"
     ]
    }
   ],
   "source": [
    "TCYdata.info()"
   ]
  },
  {
   "cell_type": "code",
   "execution_count": 16,
   "id": "a1d9d1c3",
   "metadata": {},
   "outputs": [
    {
     "data": {
      "text/html": [
       "<div>\n",
       "<style scoped>\n",
       "    .dataframe tbody tr th:only-of-type {\n",
       "        vertical-align: middle;\n",
       "    }\n",
       "\n",
       "    .dataframe tbody tr th {\n",
       "        vertical-align: top;\n",
       "    }\n",
       "\n",
       "    .dataframe thead th {\n",
       "        text-align: right;\n",
       "    }\n",
       "</style>\n",
       "<table border=\"1\" class=\"dataframe\">\n",
       "  <thead>\n",
       "    <tr style=\"text-align: right;\">\n",
       "      <th></th>\n",
       "      <th>count</th>\n",
       "      <th>mean</th>\n",
       "      <th>std</th>\n",
       "      <th>min</th>\n",
       "      <th>25%</th>\n",
       "      <th>50%</th>\n",
       "      <th>75%</th>\n",
       "      <th>max</th>\n",
       "    </tr>\n",
       "  </thead>\n",
       "  <tbody>\n",
       "    <tr>\n",
       "      <th>AverageTemperature</th>\n",
       "      <td>1001028.0</td>\n",
       "      <td>17.928991</td>\n",
       "      <td>10.358837</td>\n",
       "      <td>-31.874</td>\n",
       "      <td>12.017</td>\n",
       "      <td>20.486</td>\n",
       "      <td>25.926</td>\n",
       "      <td>39.156</td>\n",
       "    </tr>\n",
       "    <tr>\n",
       "      <th>AverageTemperatureUncertainty</th>\n",
       "      <td>1001028.0</td>\n",
       "      <td>1.033831</td>\n",
       "      <td>1.103003</td>\n",
       "      <td>0.036</td>\n",
       "      <td>0.348</td>\n",
       "      <td>0.607</td>\n",
       "      <td>1.380</td>\n",
       "      <td>15.030</td>\n",
       "    </tr>\n",
       "  </tbody>\n",
       "</table>\n",
       "</div>"
      ],
      "text/plain": [
       "                                   count       mean        std     min  \\\n",
       "AverageTemperature             1001028.0  17.928991  10.358837 -31.874   \n",
       "AverageTemperatureUncertainty  1001028.0   1.033831   1.103003   0.036   \n",
       "\n",
       "                                  25%     50%     75%     max  \n",
       "AverageTemperature             12.017  20.486  25.926  39.156  \n",
       "AverageTemperatureUncertainty   0.348   0.607   1.380  15.030  "
      ]
     },
     "execution_count": 16,
     "metadata": {},
     "output_type": "execute_result"
    }
   ],
   "source": [
    "#summary of country temperatures\n",
    "TCYdata.describe().transpose()"
   ]
  },
  {
   "cell_type": "code",
   "execution_count": 18,
   "id": "d31cb725",
   "metadata": {},
   "outputs": [
    {
     "name": "stderr",
     "output_type": "stream",
     "text": [
      "C:\\Users\\praso\\AppData\\Local\\Temp\\ipykernel_27584\\2131035231.py:2: FutureWarning: The squeeze argument has been deprecated and will be removed in a future version. Append .squeeze(\"columns\") to the call to squeeze.\n",
      "\n",
      "\n",
      "  TMCdata = pd.read_csv('GTMC.csv', header=0, index_col=0, parse_dates=True, squeeze=True)\n"
     ]
    }
   ],
   "source": [
    "#Loading temperature of cities of various with no flags\n",
    "TMCdata = pd.read_csv('GTMC.csv', header=0, index_col=0, parse_dates=True, squeeze=True)"
   ]
  },
  {
   "cell_type": "code",
   "execution_count": 19,
   "id": "fed52fb2",
   "metadata": {},
   "outputs": [
    {
     "name": "stdout",
     "output_type": "stream",
     "text": [
      "<class 'pandas.core.frame.DataFrame'>\n",
      "DatetimeIndex: 239177 entries, 1849-01-01 to 2013-09-01\n",
      "Data columns (total 6 columns):\n",
      " #   Column                         Non-Null Count   Dtype  \n",
      "---  ------                         --------------   -----  \n",
      " 0   AverageTemperature             228175 non-null  float64\n",
      " 1   AverageTemperatureUncertainty  228175 non-null  float64\n",
      " 2   City                           239177 non-null  object \n",
      " 3   Country                        239177 non-null  object \n",
      " 4   Latitude                       239177 non-null  object \n",
      " 5   Longitude                      239177 non-null  object \n",
      "dtypes: float64(2), object(4)\n",
      "memory usage: 12.8+ MB\n"
     ]
    }
   ],
   "source": [
    "TMCdata.info()"
   ]
  },
  {
   "cell_type": "code",
   "execution_count": 20,
   "id": "8261b7b0",
   "metadata": {},
   "outputs": [
    {
     "data": {
      "text/html": [
       "<div>\n",
       "<style scoped>\n",
       "    .dataframe tbody tr th:only-of-type {\n",
       "        vertical-align: middle;\n",
       "    }\n",
       "\n",
       "    .dataframe tbody tr th {\n",
       "        vertical-align: top;\n",
       "    }\n",
       "\n",
       "    .dataframe thead th {\n",
       "        text-align: right;\n",
       "    }\n",
       "</style>\n",
       "<table border=\"1\" class=\"dataframe\">\n",
       "  <thead>\n",
       "    <tr style=\"text-align: right;\">\n",
       "      <th></th>\n",
       "      <th>count</th>\n",
       "      <th>mean</th>\n",
       "      <th>std</th>\n",
       "      <th>min</th>\n",
       "      <th>25%</th>\n",
       "      <th>50%</th>\n",
       "      <th>75%</th>\n",
       "      <th>max</th>\n",
       "    </tr>\n",
       "  </thead>\n",
       "  <tbody>\n",
       "    <tr>\n",
       "      <th>AverageTemperature</th>\n",
       "      <td>228175.0</td>\n",
       "      <td>18.125969</td>\n",
       "      <td>10.024800</td>\n",
       "      <td>-26.772</td>\n",
       "      <td>12.71</td>\n",
       "      <td>20.428</td>\n",
       "      <td>25.918</td>\n",
       "      <td>38.283</td>\n",
       "    </tr>\n",
       "    <tr>\n",
       "      <th>AverageTemperatureUncertainty</th>\n",
       "      <td>228175.0</td>\n",
       "      <td>0.969343</td>\n",
       "      <td>0.979644</td>\n",
       "      <td>0.040</td>\n",
       "      <td>0.34</td>\n",
       "      <td>0.592</td>\n",
       "      <td>1.320</td>\n",
       "      <td>14.037</td>\n",
       "    </tr>\n",
       "  </tbody>\n",
       "</table>\n",
       "</div>"
      ],
      "text/plain": [
       "                                  count       mean        std     min    25%  \\\n",
       "AverageTemperature             228175.0  18.125969  10.024800 -26.772  12.71   \n",
       "AverageTemperatureUncertainty  228175.0   0.969343   0.979644   0.040   0.34   \n",
       "\n",
       "                                  50%     75%     max  \n",
       "AverageTemperature             20.428  25.918  38.283  \n",
       "AverageTemperatureUncertainty   0.592   1.320  14.037  "
      ]
     },
     "execution_count": 20,
     "metadata": {},
     "output_type": "execute_result"
    }
   ],
   "source": [
    "TMCdata.describe().transpose()"
   ]
  },
  {
   "cell_type": "code",
   "execution_count": null,
   "id": "39c7aa0c",
   "metadata": {},
   "outputs": [],
   "source": []
  }
 ],
 "metadata": {
  "kernelspec": {
   "display_name": "Python 3 (ipykernel)",
   "language": "python",
   "name": "python3"
  },
  "language_info": {
   "codemirror_mode": {
    "name": "ipython",
    "version": 3
   },
   "file_extension": ".py",
   "mimetype": "text/x-python",
   "name": "python",
   "nbconvert_exporter": "python",
   "pygments_lexer": "ipython3",
   "version": "3.9.12"
  }
 },
 "nbformat": 4,
 "nbformat_minor": 5
}
